{
  "nbformat": 4,
  "nbformat_minor": 0,
  "metadata": {
    "colab": {
      "name": "Day1.ipynb",
      "provenance": [],
      "authorship_tag": "ABX9TyP/S1KmbbUUMHJ1LvMMpoVd",
      "include_colab_link": true
    },
    "kernelspec": {
      "name": "python3",
      "display_name": "Python 3"
    }
  },
  "cells": [
    {
      "cell_type": "markdown",
      "metadata": {
        "id": "view-in-github",
        "colab_type": "text"
      },
      "source": [
        "<a href=\"https://colab.research.google.com/github/shikherpatel/Python-essential-assignment/blob/main/Day1.ipynb\" target=\"_parent\"><img src=\"https://colab.research.google.com/assets/colab-badge.svg\" alt=\"Open In Colab\"/></a>"
      ]
    },
    {
      "cell_type": "code",
      "metadata": {
        "colab": {
          "base_uri": "https://localhost:8080/"
        },
        "id": "jPziwUeJVU5t",
        "outputId": "54ac048f-e6c3-4f49-b5f9-fe7b1e66204f"
      },
      "source": [
        "#program for calculate value of 2x+5/x^2+5x+6\n",
        "X=5\n",
        "Y=(2*X+5)/(X*X+5*X+6)\n",
        "print(\"result is:\",Y)"
      ],
      "execution_count": null,
      "outputs": [
        {
          "output_type": "stream",
          "text": [
            "result is: 0.26785714285714285\n"
          ],
          "name": "stdout"
        }
      ]
    },
    {
      "cell_type": "code",
      "metadata": {
        "colab": {
          "base_uri": "https://localhost:8080/"
        },
        "id": "qANT3mlaWA-n",
        "outputId": "da7c5ad5-f437-42d0-85fe-95dd24e98f03"
      },
      "source": [
        " #program for calculate value of X^2+5X+6/2X+5\n",
        "X=5\n",
        "Y=(X*X+5*X+6)/(2*X+5)\n",
        "print(\"result is:\",Y)"
      ],
      "execution_count": null,
      "outputs": [
        {
          "output_type": "stream",
          "text": [
            "result is: 3.7333333333333334\n"
          ],
          "name": "stdout"
        }
      ]
    },
    {
      "cell_type": "code",
      "metadata": {
        "colab": {
          "base_uri": "https://localhost:8080/"
        },
        "id": "5aQwH6M7YnOX",
        "outputId": "ed04eac9-9201-431c-dbc1-5603b4cf5d44"
      },
      "source": [
        "#program for calculate value of (2x-3)(x+9)\n",
        "X=5\n",
        "Y=(2*X-3)*(X+9)\n",
        "print(\"result is:\",Y)"
      ],
      "execution_count": null,
      "outputs": [
        {
          "output_type": "stream",
          "text": [
            "result is: 98\n"
          ],
          "name": "stdout"
        }
      ]
    },
    {
      "cell_type": "code",
      "metadata": {
        "id": "CHm_nU0OZIXK",
        "colab": {
          "base_uri": "https://localhost:8080/"
        },
        "outputId": "496dfec4-4bfd-4823-ee5d-0be5abf5e4ca"
      },
      "source": [
        "#Create a username and password login file using nested while loop\n",
        "print('Enter correct username and password combo to continue')\n",
        "count=5\n",
        " \n",
        "while count>0:\n",
        "    username=input('Enter username: ')\n",
        "    password=input('Enter password: ')\n",
        "    if username=='python'and password=='qwerty':\n",
        "        print('successfully login')\n",
        "        count=5\n",
        "        break\n",
        "    else:\n",
        "        print('Access denied. Try again.')\n",
        "        count-=1\n",
        "        print(\"try left\",count)"
      ],
      "execution_count": null,
      "outputs": [
        {
          "output_type": "stream",
          "text": [
            "Enter correct username and password combo to continue\n",
            "Enter username: Hello\n",
            "Enter password: Sg\n",
            "Access denied. Try again.\n",
            "try left 4\n",
            "Enter username: Python\n",
            "Enter password: qwerty\n",
            "Access denied. Try again.\n",
            "try left 3\n",
            "Enter username: python\n"
          ],
          "name": "stdout"
        }
      ]
    }
  ]
}